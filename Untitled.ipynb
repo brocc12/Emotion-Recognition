{
 "cells": [
  {
   "cell_type": "markdown",
   "id": "5af61053",
   "metadata": {},
   "source": [
    "## Data Exploration and Preparation "
   ]
  },
  {
   "cell_type": "markdown",
   "id": "4d3d7784",
   "metadata": {},
   "source": [
    "## Emotion Recognition Dataset\n",
    "\n",
    "\n",
    "**Emotion Categories:**\n",
    "\n",
    "- Angry\n",
    "- Fear\n",
    "- Happy\n",
    "- Neutral\n",
    "- Sad\n",
    "- Surprise\n",
    "\n",
    "**Dataset Statistics:**\n",
    "\n",
    "- Total Images: 24,385 files\n",
    "- Number of Emotion Categories: 5\n",
    "- Class Distribution:\n",
    "  - Angry: 3,993 files\n",
    "  - Disgust: 436 files (Dropped from the dataset)\n",
    "  - Fear: 4,103 files\n",
    "  - Happy: 7,164 files\n",
    "  - Neutral: 4,982 files\n",
    "  - Sad: 4,938 files\n",
    "  - Surprise: 3,205 files\n",
    "\n"
   ]
  },
  {
   "cell_type": "code",
   "execution_count": 1,
   "id": "bda1a013",
   "metadata": {},
   "outputs": [],
   "source": [
    "import os\n",
    "from PIL import Image\n",
    "import numpy as np\n",
    "from tensorflow.keras.preprocessing.image import img_to_array, load_img\n",
    "from tensorflow.keras.utils import to_categorical\n",
    "import tensorflow as tf\n",
    "from tensorflow.keras.models import Sequential\n",
    "from tensorflow.keras.layers import Conv2D, MaxPooling2D, Flatten, Dense, Dropout\n",
    "from keras.regularizers import l2\n",
    "from tensorflow.keras.optimizers import Adam\n",
    "from sklearn.preprocessing import OneHotEncoder\n",
    "from sklearn.preprocessing import StandardScaler\n",
    "from sklearn.preprocessing import LabelEncoder\n",
    "from scikeras.wrappers import KerasClassifier\n",
    "from sklearn.model_selection import GridSearchCV\n",
    "from sklearn.metrics import confusion_matrix, ConfusionMatrixDisplay\n",
    "from sklearn.metrics import classification_report\n",
    "import matplotlib.pyplot as plt\n",
    "from sklearn.metrics import accuracy_score, recall_score\n"
   ]
  },
  {
   "cell_type": "markdown",
   "id": "d6c8f98e",
   "metadata": {},
   "source": [
    "def preprocess_image_data(directory, target_size=(64, 64)):\n",
    "    images = []\n",
    "    labels = []\n",
    "    for class_label in os.listdir(directory):\n",
    "        class_dir = os.path.join(directory, class_label)\n",
    "        if os.path.isdir(class_dir):\n",
    "            for image_file in os.listdir(class_dir):\n",
    "                image_path = os.path.join(class_dir, image_file)\n",
    "                try:\n",
    "                    # Open and resize the image\n",
    "                    image = Image.open(image_path).resize(target_size)\n",
    "                    images.append(np.array(image))\n",
    "                    labels.append(class_label)\n",
    "                except Exception as e:\n",
    "                    # Some images might be corrupted or not be images at all\n",
    "                    pass\n",
    "    return images, labels"
   ]
  },
  {
   "cell_type": "code",
   "execution_count": 2,
   "id": "8fbb6a59",
   "metadata": {},
   "outputs": [],
   "source": [
    "from PIL import Image\n",
    "import os\n",
    "import numpy as np\n",
    "\n",
    "def preprocess_image_data(directory, target_size=(64, 64), skip_folders=[], max_files_per_folder=5000):\n",
    "\n",
    "    valid_extensions = ('.jpg', '.jpeg', '.png')  # Add more extensions if needed\n",
    "\n",
    "    images = []\n",
    "    labels = []\n",
    "\n",
    "    for class_label in os.listdir(directory):\n",
    "        if class_label in skip_folders:\n",
    "            continue  # Skip this folder\n",
    "        class_dir = os.path.join(directory, class_label)\n",
    "\n",
    "        if os.path.isdir(class_dir):\n",
    "            num_files = 0\n",
    "\n",
    "            for image_file in os.listdir(class_dir):\n",
    "                if not image_file.lower().endswith(valid_extensions):\n",
    "                    continue  # Skip non-image files\n",
    "\n",
    "                image_path = os.path.join(class_dir, image_file)\n",
    "                try:\n",
    "                    # Open and resize the image\n",
    "                    image = Image.open(image_path).resize(target_size)\n",
    "                    images.append(np.array(image))\n",
    "                    labels.append(class_label)\n",
    "                    num_files += 1\n",
    "\n",
    "                    if num_files >= max_files_per_folder:\n",
    "                        break  # Reached the maximum files for this folder\n",
    "                except Exception as e:\n",
    "                    pass\n",
    "\n",
    "    return images, labels\n"
   ]
  },
  {
   "cell_type": "code",
   "execution_count": 3,
   "id": "789b8fe5",
   "metadata": {},
   "outputs": [],
   "source": [
    "# def preprocess_image_data(directory, target_size=(64, 64), skip_folders=None):\n",
    "#     if skip_folders is None:\n",
    "#         skip_folders = []  # Default to an empty list if skip_folders is not provided\n",
    "\n",
    "#     images = []\n",
    "#     labels = []\n",
    "#     for class_label in os.listdir(directory):\n",
    "#         if class_label in skip_folders:\n",
    "#             continue  # Skip this folder\n",
    "#         class_dir = os.path.join(directory, class_label)\n",
    "#         if os.path.isdir(class_dir):\n",
    "#             for image_file in os.listdir(class_dir):\n",
    "#                 image_path = os.path.join(class_dir, image_file)\n",
    "#                 try:\n",
    "#                     # Open and resize the image\n",
    "#                     image = Image.open(image_path).resize(target_size)\n",
    "#                     images.append(np.array(image))\n",
    "#                     labels.append(class_label)\n",
    "#                 except Exception as e:\n",
    "#                     # Some images might be corrupted or not be images at all\n",
    "#                     pass\n",
    "#     return images, labels\n",
    "\n"
   ]
  },
  {
   "cell_type": "code",
   "execution_count": 4,
   "id": "8aaf720d",
   "metadata": {},
   "outputs": [],
   "source": [
    "\n",
    "x_train, y_train = preprocess_image_data(r'C:\\Users\\beast\\Documents\\Flatiron\\Gesture detection\\images\\train', skip_folders=['disgust'])\n",
    "x_test, y_test= preprocess_image_data(r'C:\\Users\\beast\\Documents\\Flatiron\\Gesture detection\\images\\validation', skip_folders=['disgust'])"
   ]
  },
  {
   "cell_type": "code",
   "execution_count": 5,
   "id": "99c25519",
   "metadata": {},
   "outputs": [],
   "source": [
    "# import pandas as pd\n",
    "# from sklearn.utils import resample\n",
    "\n",
    "# def undersample_data(x, y, desired_class_ratio=1.0, overrepresented_class=None):\n",
    "#     # Combine x and y into a DataFrame\n",
    "#     data_df = pd.DataFrame({'x_data': x, 'y_data': y})\n",
    "\n",
    "#     # If the overrepresented class is not specified, find the class with the most samples\n",
    "#     if overrepresented_class is None:\n",
    "#         overrepresented_class = data_df['y_data'].value_counts().idxmax()\n",
    "\n",
    "#     # Separate the overrepresented class and other classes\n",
    "#     overrepresented_samples = data_df[data_df['y_data'] == overrepresented_class]\n",
    "#     other_samples = data_df[data_df['y_data'] != overrepresented_class]\n",
    "\n",
    "#     # Calculate the number of samples to keep for the overrepresented class\n",
    "#     num_samples_to_keep = int(len(other_samples) * desired_class_ratio)\n",
    "\n",
    "#     # Perform undersampling on the overrepresented class\n",
    "#     undersampled_samples = resample(overrepresented_samples, n_samples=num_samples_to_keep, random_state=42)\n",
    "\n",
    "#     # Combine the undersampled overrepresented class with the other classes\n",
    "#     undersampled_data_df = pd.concat([undersampled_samples, other_samples])\n",
    "\n",
    "#     # Extract x and y from the undersampled DataFrame\n",
    "#     x_undersampled = undersampled_data_df['x_data'].values\n",
    "#     y_undersampled = undersampled_data_df['y_data'].values\n",
    "\n",
    "#     return x_undersampled, y_undersampled\n",
    "\n"
   ]
  },
  {
   "cell_type": "code",
   "execution_count": 6,
   "id": "e2afc950",
   "metadata": {},
   "outputs": [],
   "source": [
    "#Normalize the images\n",
    "x_train = np.array(x_train) / 255.0\n",
    "x_test = np.array(x_test) / 255.0"
   ]
  },
  {
   "cell_type": "code",
   "execution_count": 8,
   "id": "cd582eaa",
   "metadata": {},
   "outputs": [],
   "source": [
    "\n",
    "# # Undersample the training data\n",
    "# x_train, y_train_undersampled = undersample_data(x_train, y_train, desired_class_ratio=1.0)\n",
    "\n",
    "# # Undersample the test data\n",
    "# x_test, y_test_undersampled = undersample_data(x_test, y_test, desired_class_ratio=1.0)\n",
    "\n",
    "# # Now, x_train_undersampled, y_train_undersampled, x_test_undersampled, and y_test_undersampled"
   ]
  },
  {
   "cell_type": "code",
   "execution_count": 10,
   "id": "a98f81f0",
   "metadata": {},
   "outputs": [],
   "source": [
    "#Encode class labels to integers\n",
    "label_encoder = LabelEncoder()\n",
    "y_train_encoded = label_encoder.fit_transform(y_train)\n",
    "y_test_encoded = label_encoder.transform(y_test)"
   ]
  },
  {
   "cell_type": "code",
   "execution_count": 11,
   "id": "6d6043a0",
   "metadata": {},
   "outputs": [
    {
     "data": {
      "text/plain": [
       "((26221, 64, 64), (26221, 6), (6955, 64, 64), (6955, 6))"
      ]
     },
     "execution_count": 11,
     "metadata": {},
     "output_type": "execute_result"
    }
   ],
   "source": [
    "y_train_encoded = to_categorical(np.array(y_train_encoded))\n",
    "y_test_encoded = to_categorical(np.array(y_test_encoded))\n",
    "\n",
    "x_train.shape, y_train_encoded.shape, x_test.shape, y_test_encoded.shape"
   ]
  },
  {
   "cell_type": "code",
   "execution_count": 12,
   "id": "5967c61e",
   "metadata": {
    "scrolled": true
   },
   "outputs": [
    {
     "name": "stdout",
     "output_type": "stream",
     "text": [
      "Model: \"sequential\"\n",
      "_________________________________________________________________\n",
      " Layer (type)                Output Shape              Param #   \n",
      "=================================================================\n",
      " conv2d (Conv2D)             (None, 62, 62, 32)        320       \n",
      "                                                                 \n",
      " max_pooling2d (MaxPooling2  (None, 31, 31, 32)        0         \n",
      " D)                                                              \n",
      "                                                                 \n",
      " conv2d_1 (Conv2D)           (None, 29, 29, 64)        18496     \n",
      "                                                                 \n",
      " max_pooling2d_1 (MaxPoolin  (None, 14, 14, 64)        0         \n",
      " g2D)                                                            \n",
      "                                                                 \n",
      " flatten (Flatten)           (None, 12544)             0         \n",
      "                                                                 \n",
      " dense (Dense)               (None, 128)               1605760   \n",
      "                                                                 \n",
      " dropout (Dropout)           (None, 128)               0         \n",
      "                                                                 \n",
      " dense_1 (Dense)             (None, 6)                 774       \n",
      "                                                                 \n",
      "=================================================================\n",
      "Total params: 1625350 (6.20 MB)\n",
      "Trainable params: 1625350 (6.20 MB)\n",
      "Non-trainable params: 0 (0.00 Byte)\n",
      "_________________________________________________________________\n"
     ]
    }
   ],
   "source": [
    "# Define a CNN model with a custom evaluation metric\n",
    "def create_cnn_model(input_shape, num_classes, learning_rate=0.001, num_filters=32, dropout_rate=0.25, custom_metric='Accuracy'):\n",
    "    model = Sequential()\n",
    "\n",
    "    # Convolutional Layer 1\n",
    "    model.add(Conv2D(num_filters, kernel_size=(3, 3), activation='relu', input_shape=input_shape))\n",
    "    model.add(MaxPooling2D(pool_size=(2, 2)))\n",
    "\n",
    "    # Convolutional Layer 2\n",
    "    model.add(Conv2D(num_filters * 2, kernel_size=(3, 3), activation='relu'))\n",
    "    model.add(MaxPooling2D(pool_size=(2, 2)))\n",
    "\n",
    "    # Flatten the feature maps\n",
    "    model.add(Flatten())\n",
    "\n",
    "    # Fully Connected Layer 1\n",
    "    model.add(Dense(128, activation='relu'))\n",
    "    model.add(Dropout(dropout_rate))  # Dropout layer for regularization\n",
    "\n",
    "    # Output Layer\n",
    "    model.add(Dense(num_classes, activation='softmax'))\n",
    "\n",
    "    # Compile the model with the specified learning rate and custom metric\n",
    "    model.compile(\n",
    "        optimizer=Adam(learning_rate=learning_rate),\n",
    "        loss='categorical_crossentropy',  # Use categorical cross-entropy because of one hot encoding\n",
    "        metrics=[custom_metric]\n",
    "    )\n",
    "\n",
    "    return model\n",
    "\n",
    "input_shape = (64,64, 1)  # Adjust the input shape according to your grayscale images\n",
    "num_classes = 6  # Number of emotion categories\n",
    "\n",
    "# Specify a custom evaluation metric (e.g., 'f1', 'precision', 'recall', etc.) or use the default 'Accuracy'\n",
    "custom_metric = 'accuracy'  # Change to a different metric if desired\n",
    "\n",
    "model = create_cnn_model(input_shape, num_classes, custom_metric=custom_metric)\n",
    "model.summary()"
   ]
  },
  {
   "cell_type": "code",
   "execution_count": 14,
   "id": "c5d0991c",
   "metadata": {},
   "outputs": [
    {
     "name": "stdout",
     "output_type": "stream",
     "text": [
      "820/820 [==============================] - 92s 111ms/step - loss: 1.5959 - accuracy: 0.3454\n"
     ]
    },
    {
     "data": {
      "text/plain": [
       "<keras.src.callbacks.History at 0x14089142710>"
      ]
     },
     "execution_count": 14,
     "metadata": {},
     "output_type": "execute_result"
    }
   ],
   "source": [
    "model.fit(x_train, y_train_encoded)"
   ]
  },
  {
   "cell_type": "code",
   "execution_count": 15,
   "id": "4d990838",
   "metadata": {},
   "outputs": [
    {
     "name": "stdout",
     "output_type": "stream",
     "text": [
      "218/218 [==============================] - 6s 27ms/step\n"
     ]
    },
    {
     "data": {
      "text/plain": [
       "array([4, 1, 2, ..., 0, 4, 1], dtype=int64)"
      ]
     },
     "execution_count": 15,
     "metadata": {},
     "output_type": "execute_result"
    }
   ],
   "source": [
    "predicted_labels = np.argmax(model.predict(x_test), axis=1)\n",
    "predicted_labels"
   ]
  },
  {
   "cell_type": "code",
   "execution_count": 16,
   "id": "aeebbfc6",
   "metadata": {},
   "outputs": [
    {
     "data": {
      "text/plain": [
       "array([0, 0, 0, ..., 5, 5, 5], dtype=int64)"
      ]
     },
     "execution_count": 16,
     "metadata": {},
     "output_type": "execute_result"
    }
   ],
   "source": [
    "y_test_labels = np.argmax(y_test_encoded, axis = 1)\n",
    "y_test_labels"
   ]
  },
  {
   "cell_type": "code",
   "execution_count": 18,
   "id": "25d99125",
   "metadata": {},
   "outputs": [
    {
     "data": {
      "image/png": "[encoded data removed]",
      "text/plain": [
       "<Figure size 640x480 with 2 Axes>"
      ]
     },
     "metadata": {},
     "output_type": "display_data"
    }
   ],
   "source": [
    "cnf = confusion_matrix(y_test_labels, predicted_labels)\n",
    "cm_display = ConfusionMatrixDisplay(confusion_matrix = cnf)\n",
    "cm_display.plot()\n",
    "plt.show()"
   ]
  },
  {
   "cell_type": "code",
   "execution_count": 19,
   "id": "ff5f238a",
   "metadata": {},
   "outputs": [
    {
     "data": {
      "text/plain": [
       "(0.45621854780733284, 0.41774271846110356)"
      ]
     },
     "execution_count": 19,
     "metadata": {},
     "output_type": "execute_result"
    }
   ],
   "source": [
    "accuracy_score(y_test_labels, predicted_labels), recall_score(y_test_labels, predicted_labels, average='macro')"
   ]
  },
  {
   "cell_type": "markdown",
   "id": "7b160834",
   "metadata": {},
   "source": [
    "Increasing Complexity of themodel as it is underpreforming, also adding L2 regularization"
   ]
  },
  {
   "cell_type": "code",
   "execution_count": 20,
   "id": "cec5d695",
   "metadata": {},
   "outputs": [
    {
     "name": "stdout",
     "output_type": "stream",
     "text": [
      "Model: \"sequential_1\"\n",
      "_________________________________________________________________\n",
      " Layer (type)                Output Shape              Param #   \n",
      "=================================================================\n",
      " conv2d_2 (Conv2D)           (None, 62, 62, 32)        320       \n",
      "                                                                 \n",
      " max_pooling2d_2 (MaxPoolin  (None, 62, 62, 32)        0         \n",
      " g2D)                                                            \n",
      "                                                                 \n",
      " conv2d_3 (Conv2D)           (None, 62, 62, 64)        18496     \n",
      "                                                                 \n",
      " max_pooling2d_3 (MaxPoolin  (None, 62, 62, 64)        0         \n",
      " g2D)                                                            \n",
      "                                                                 \n",
      " conv2d_4 (Conv2D)           (None, 62, 62, 128)       73856     \n",
      "                                                                 \n",
      " max_pooling2d_4 (MaxPoolin  (None, 62, 62, 128)       0         \n",
      " g2D)                                                            \n",
      "                                                                 \n",
      " conv2d_5 (Conv2D)           (None, 62, 62, 128)       147584    \n",
      "                                                                 \n",
      " max_pooling2d_5 (MaxPoolin  (None, 62, 62, 128)       0         \n",
      " g2D)                                                            \n",
      "                                                                 \n",
      " conv2d_6 (Conv2D)           (None, 62, 62, 128)       147584    \n",
      "                                                                 \n",
      " max_pooling2d_6 (MaxPoolin  (None, 62, 62, 128)       0         \n",
      " g2D)                                                            \n",
      "                                                                 \n",
      " flatten_1 (Flatten)         (None, 492032)            0         \n",
      "                                                                 \n",
      " dense_2 (Dense)             (None, 128)               62980224  \n",
      "                                                                 \n",
      " dropout_1 (Dropout)         (None, 128)               0         \n",
      "                                                                 \n",
      " dense_3 (Dense)             (None, 64)                8256      \n",
      "                                                                 \n",
      " dropout_2 (Dropout)         (None, 64)                0         \n",
      "                                                                 \n",
      " dense_4 (Dense)             (None, 64)                4160      \n",
      "                                                                 \n",
      " dropout_3 (Dropout)         (None, 64)                0         \n",
      "                                                                 \n",
      " dense_5 (Dense)             (None, 6)                 390       \n",
      "                                                                 \n",
      "=================================================================\n",
      "Total params: 63380870 (241.78 MB)\n",
      "Trainable params: 63380870 (241.78 MB)\n",
      "Non-trainable params: 0 (0.00 Byte)\n",
      "_________________________________________________________________\n"
     ]
    }
   ],
   "source": [
    "from keras.layers import Conv2D, MaxPooling2D, Flatten, Dense, Dropout\n",
    "from keras.regularizers import l2  # Import L2 regularization\n",
    "from keras.optimizers import Adam\n",
    "from keras.models import Sequential\n",
    "\n",
    "def create_complex_cnn_model(input_shape, num_classes, learning_rate=0.001, num_filters=32, dropout_rate=0.25, custom_metric='accuracy'):\n",
    "    model = Sequential()\n",
    "\n",
    "    # Convolutional Layer 1\n",
    "    model.add(Conv2D(num_filters, kernel_size=(3, 3), activation='relu', input_shape=input_shape))\n",
    "    model.add(MaxPooling2D(pool_size=(1, 1))) \n",
    "\n",
    "    # Convolutional Layer 2\n",
    "    model.add(Conv2D(num_filters * 2, kernel_size=(3, 3), activation='relu', padding='same'))\n",
    "    model.add(MaxPooling2D(pool_size=(1, 1))) \n",
    "\n",
    "    # Convolutional Layer 3\n",
    "    model.add(Conv2D(num_filters * 4, kernel_size=(3, 3), activation='relu', padding='same'))\n",
    "    model.add(MaxPooling2D(pool_size=(1, 1)))\n",
    "\n",
    "    # Convolutional Layer 4\n",
    "    model.add(Conv2D(num_filters * 4, kernel_size=(3, 3), activation='relu', padding='same'))\n",
    "    model.add(MaxPooling2D(pool_size=(1, 1)))\n",
    "\n",
    "    # Convolutional Layer 5\n",
    "    model.add(Conv2D(num_filters * 4, kernel_size=(3, 3), activation='relu', padding='same'))\n",
    "    model.add(MaxPooling2D(pool_size=(1, 1))) \n",
    "\n",
    "    # Flatten the feature maps\n",
    "    model.add(Flatten())\n",
    "\n",
    "    # Fully Connected Layer 1 with L2 regularization\n",
    "    model.add(Dense(128, activation='relu', kernel_regularizer=l2(0.01)))\n",
    "    model.add(Dropout(dropout_rate))\n",
    "\n",
    "    # Fully Connected Layer 2 with L2 regularization\n",
    "    model.add(Dense(64, activation='relu', kernel_regularizer=l2(0.01)))\n",
    "    model.add(Dropout(dropout_rate))\n",
    "\n",
    "    # Fully Connected Layer 3 with L2 regularization\n",
    "    model.add(Dense(64, activation='relu', kernel_regularizer=l2(0.01)))\n",
    "    model.add(Dropout(dropout_rate))\n",
    "\n",
    "    # Output Layer\n",
    "    model.add(Dense(num_classes, activation='softmax'))\n",
    "\n",
    "    # Compile the model with the specified learning rate and custom metric\n",
    "    model.compile(\n",
    "        optimizer=Adam(learning_rate=learning_rate),\n",
    "        loss='categorical_crossentropy',\n",
    "        metrics=[custom_metric]\n",
    "    )\n",
    "\n",
    "    return model\n",
    "\n",
    "input_shape = (64, 64, 1)  # Adjust the input shape according to your grayscale images\n",
    "num_classes = 6  # Number of emotion categories\n",
    "\n",
    "# Specify a custom evaluation metric (e.g., 'f1', 'precision', 'recall', etc.) or use the default 'accuracy'\n",
    "custom_metric = 'accuracy'  # Change to a different metric if desired\n",
    "\n",
    "modelacc = create_complex_cnn_model(input_shape, num_classes, custom_metric=custom_metric)\n",
    "modelacc.summary()\n"
   ]
  },
  {
   "cell_type": "code",
   "execution_count": null,
   "id": "a4c74844",
   "metadata": {},
   "outputs": [
    {
     "name": "stdout",
     "output_type": "stream",
     "text": [
      " 14/820 [..............................] - ETA: 54:55 - loss: 5.0176 - accuracy: 0.1696"
     ]
    }
   ],
   "source": [
    "# Now that we are sure that our data is in a suitable format, and our model has been expanded, i will run again\n",
    "modelacc.fit(x_train, y_train_encoded, validation_data=(x_test, y_test_encoded))\n",
    "#predict and evaluate\n",
    "predicted_labels2 = np.argmax(modelacc.predict(x_test), axis=1)\n",
    "cnf = confusion_matrix(y_test_labels, predicted_labels2)\n",
    "cm_display = ConfusionMatrixDisplay(confusion_matrix = cnf)\n",
    "cm_display.plot()\n",
    "plt.show()"
   ]
  },
  {
   "cell_type": "code",
   "execution_count": null,
   "id": "47bba9bd",
   "metadata": {},
   "outputs": [],
   "source": [
    "accuracy_score(y_test_labels, predicted_labels2), recall_score(y_test_labels, predicted_labels2, average='macro')"
   ]
  },
  {
   "cell_type": "code",
   "execution_count": null,
   "id": "4f2954bf",
   "metadata": {},
   "outputs": [],
   "source": [
    "cnf"
   ]
  },
  {
   "cell_type": "code",
   "execution_count": null,
   "id": "e53327b3",
   "metadata": {},
   "outputs": [],
   "source": []
  },
  {
   "cell_type": "code",
   "execution_count": null,
   "id": "00d0752d",
   "metadata": {},
   "outputs": [],
   "source": [
    "from keras.layers import Conv2D, MaxPooling2D, Flatten, Dense, Dropout\n",
    "from keras.regularizers import l2  # Import L2 regularization\n",
    "from keras.optimizers import Adam\n",
    "from keras.models import Sequential\n",
    "\n",
    "def create_complex_cnn_model(input_shape, num_classes, learning_rate=0.001, num_filters=32, dropout_rate=0.25, custom_metric='accuracy'):\n",
    "    model = Sequential()\n",
    "\n",
    "    # Convolutional Layer 1\n",
    "    model.add(Conv2D(num_filters, kernel_size=(3, 3), activation='relu', input_shape=input_shape))\n",
    "    model.add(MaxPooling2D(pool_size=(1, 1))) \n",
    "\n",
    "    # Convolutional Layer 2\n",
    "    model.add(Conv2D(num_filters * 2, kernel_size=(3, 3), activation='relu', padding='same'))\n",
    "    model.add(MaxPooling2D(pool_size=(1, 1))) \n",
    "\n",
    "    # Convolutional Layer 3\n",
    "    model.add(Conv2D(num_filters * 4, kernel_size=(3, 3), activation='relu', padding='same'))\n",
    "    model.add(MaxPooling2D(pool_size=(1, 1)))\n",
    "\n",
    "    # Convolutional Layer 4\n",
    "    model.add(Conv2D(num_filters * 4, kernel_size=(3, 3), activation='relu', padding='same'))\n",
    "    model.add(MaxPooling2D(pool_size=(1, 1)))\n",
    "\n",
    "    # Convolutional Layer 5\n",
    "    model.add(Conv2D(num_filters * 4, kernel_size=(3, 3), activation='relu', padding='same'))\n",
    "    model.add(MaxPooling2D(pool_size=(1, 1))) \n",
    "\n",
    "    # Flatten the feature maps\n",
    "    model.add(Flatten())\n",
    "\n",
    "    # Fully Connected Layer 1 with L2 regularization\n",
    "    model.add(Dense(128, activation='relu', kernel_regularizer=l2(0.01)))\n",
    "    model.add(Dropout(dropout_rate))\n",
    "\n",
    "    # Fully Connected Layer 2 with L2 regularization\n",
    "    model.add(Dense(64, activation='relu', kernel_regularizer=l2(0.01)))\n",
    "    model.add(Dropout(dropout_rate))\n",
    "\n",
    "    # Fully Connected Layer 3 with L2 regularization\n",
    "    model.add(Dense(64, activation='relu', kernel_regularizer=l2(0.01)))\n",
    "    model.add(Dropout(dropout_rate))\n",
    "\n",
    "    # Output Layer\n",
    "    model.add(Dense(num_classes, activation='softmax'))\n",
    "\n",
    "    # Compile the model with the specified learning rate and custom metric\n",
    "    model.compile(\n",
    "        optimizer=Adam(learning_rate=learning_rate),\n",
    "        loss='categorical_crossentropy',\n",
    "        metrics=[custom_metric]\n",
    "    )\n",
    "\n",
    "    return model\n",
    "\n",
    "input_shape = (64, 64, 1)  # Adjust the input shape according to your grayscale images\n",
    "num_classes = 6  # Number of emotion categories\n",
    "\n",
    "# Specify a custom evaluation metric (e.g., 'f1', 'precision', 'recall', etc.) or use the default 'accuracy'\n",
    "custom_metric = 'f1'  # Change to a different metric if desired\n",
    "\n",
    "modelf1 = create_complex_cnn_model(input_shape, num_classes, custom_metric=custom_metric)\n",
    "modelf1.summary()\n"
   ]
  },
  {
   "cell_type": "code",
   "execution_count": null,
   "id": "71af04f4",
   "metadata": {},
   "outputs": [],
   "source": [
    "# Now that we are sure that our data is in a suitable format, and our model has been expanded, i will run again\n",
    "modelf1.fit(x_train, y_train_encoded, validation_data=(x_test, y_test_encoded))\n",
    "#predict and evaluate\n",
    "predicted_labels2 = np.argmax(modelf1.predict(x_test), axis=1)\n",
    "cnf = confusion_matrix(y_test_labels, predicted_labels2)\n",
    "cm_display = ConfusionMatrixDisplay(confusion_matrix = cnf)\n",
    "cm_display.plot()\n",
    "plt.show()"
   ]
  },
  {
   "cell_type": "code",
   "execution_count": null,
   "id": "f5ed7104",
   "metadata": {},
   "outputs": [],
   "source": []
  },
  {
   "cell_type": "code",
   "execution_count": null,
   "id": "0b886c59",
   "metadata": {},
   "outputs": [],
   "source": []
  },
  {
   "cell_type": "code",
   "execution_count": null,
   "id": "27649ccb",
   "metadata": {},
   "outputs": [],
   "source": []
  },
  {
   "cell_type": "code",
   "execution_count": null,
   "id": "cd5e2260",
   "metadata": {},
   "outputs": [],
   "source": []
  },
  {
   "cell_type": "code",
   "execution_count": null,
   "id": "6a38579f",
   "metadata": {},
   "outputs": [],
   "source": []
  },
  {
   "cell_type": "code",
   "execution_count": null,
   "id": "2a306374",
   "metadata": {},
   "outputs": [],
   "source": [
    "keras_wrapped_model = KerasClassifier(build_fn=create_cnn_model, epochs=10, batch_size=32, scoring='accuracy')\n",
    "# Define the hyperparameter grid\n",
    "param_grid = {\n",
    "    'learning_rate': [0.001, 0.01, 0.1],\n",
    "    'num_filters': [16, 32, 64],\n",
    "    'epochs': [10, 15, 20]\n",
    "}\n",
    "# Create GridSearchCV with the specified scoring metric\n",
    "grid = GridSearchCV(estimator=model, param_grid=param_grid, cv=3)\n",
    "\n",
    "# Fit the grid search to your data\n",
    "grid_result = grid.fit(x_data, y_data)\n",
    "\n",
    "# Access the best hyperparameters and results\n",
    "print(\"Best: %f using %s\" % (grid_result.best_score_, grid_result.best_params_))"
   ]
  },
  {
   "cell_type": "code",
   "execution_count": null,
   "id": "95a57ed3",
   "metadata": {},
   "outputs": [],
   "source": []
  }
 ],
 "metadata": {
  "kernelspec": {
   "display_name": "Training Wheels",
   "language": "python",
   "name": "training_wheels"
  },
  "language_info": {
   "codemirror_mode": {
    "name": "ipython",
    "version": 3
   },
   "file_extension": ".py",
   "mimetype": "text/x-python",
   "name": "python",
   "nbconvert_exporter": "python",
   "pygments_lexer": "ipython3",
   "version": "3.11.3"
  }
 },
 "nbformat": 4,
 "nbformat_minor": 5
}
